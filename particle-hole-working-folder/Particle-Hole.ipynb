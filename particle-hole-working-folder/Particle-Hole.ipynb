{
 "cells": [
  {
   "cell_type": "markdown",
   "id": "romantic-subsection",
   "metadata": {},
   "source": [
    "# Qiskit's Particle Hole Transformer"
   ]
  },
  {
   "cell_type": "markdown",
   "id": "adult-samoa",
   "metadata": {},
   "source": [
    "In this document, I summarize some notes and thoughts on the Particle Hole transformation implemented in Qiskit. The origin of these notes comes from a variety of discussions which came up in the process of migrating the implementation to Qiskit Nature."
   ]
  },
  {
   "cell_type": "markdown",
   "id": "statistical-profession",
   "metadata": {},
   "source": [
    "## Implementation State in Qiskit Aqua"
   ]
  },
  {
   "cell_type": "markdown",
   "id": "polished-impact",
   "metadata": {},
   "source": [
    "The implementation in Qiskit Aqua was split in two parts:\n",
    "- [`FermionicOperator.particle_hole_transformation`](https://github.com/Qiskit/qiskit-aqua/blob/7229dd15b01e5015ec649a3264561fc01d39a16b/qiskit/chemistry/fermionic_operator.py#L501)\n",
    "- [`particle_hole_transformation`](https://github.com/Qiskit/qiskit-aqua/blob/master/qiskit/chemistry/particle_hole.py)"
   ]
  },
  {
   "cell_type": "markdown",
   "id": "hispanic-tracker",
   "metadata": {},
   "source": [
    "The first part dealt with transforming the integrals stored in the `FermionicOperator` between block- and interleaved-spin format whereas the second part dealt with the actual transformation."
   ]
  },
  {
   "cell_type": "markdown",
   "id": "broadband-satisfaction",
   "metadata": {},
   "source": [
    "Below is a simple example showcasing how the transformation works."
   ]
  },
  {
   "cell_type": "code",
   "execution_count": 1,
   "id": "executed-hurricane",
   "metadata": {},
   "outputs": [],
   "source": [
    "from qiskit.chemistry import FermionicOperator\n",
    "from qiskit.aqua.algorithms import NumPyMinimumEigensolver\n",
    "from qiskit.chemistry.drivers import PySCFDriver"
   ]
  },
  {
   "cell_type": "code",
   "execution_count": 2,
   "id": "metropolitan-vermont",
   "metadata": {},
   "outputs": [],
   "source": [
    "import warnings\n",
    "warnings.filterwarnings('ignore', category=DeprecationWarning)"
   ]
  },
  {
   "cell_type": "code",
   "execution_count": 3,
   "id": "allied-partner",
   "metadata": {},
   "outputs": [],
   "source": [
    "driver = PySCFDriver()\n",
    "q_mol = driver.run()\n",
    "fer_op = FermionicOperator(h1=q_mol.one_body_integrals, h2=q_mol.two_body_integrals)"
   ]
  },
  {
   "cell_type": "code",
   "execution_count": 4,
   "id": "listed-married",
   "metadata": {},
   "outputs": [
    {
     "name": "stdout",
     "output_type": "stream",
     "text": [
      "E_elec = {result.eigenvalue.real}\n"
     ]
    }
   ],
   "source": [
    "# First, let's check what the expected result is:\n",
    "qubit_op = fer_op.mapping('jordan_wigner')\n",
    "result = NumPyMinimumEigensolver().compute_minimum_eigenvalue(qubit_op)\n",
    "print('E_elec = {result.eigenvalue.real}')"
   ]
  },
  {
   "cell_type": "code",
   "execution_count": 5,
   "id": "fitting-clear",
   "metadata": {},
   "outputs": [
    {
     "name": "stdout",
     "output_type": "stream",
     "text": [
      "E_ph = 1.8369679912029844\n"
     ]
    }
   ],
   "source": [
    "# Now, let's apply the particle-hole transformation\n",
    "ph_fer_op, ph_energy_shift = fer_op.particle_hole_transformation((q_mol.num_alpha, q_mol.num_beta))\n",
    "print(f'E_ph = {ph_energy_shift}')"
   ]
  },
  {
   "cell_type": "code",
   "execution_count": 6,
   "id": "progressive-consultancy",
   "metadata": {},
   "outputs": [
    {
     "name": "stdout",
     "output_type": "stream",
     "text": [
      "E_elec = -0.02030703899939598 - 1.8369679912029844 = -1.8572750302023804\n"
     ]
    }
   ],
   "source": [
    "# ... and find the operators eigenvalue\n",
    "ph_qubit_op = ph_fer_op.mapping('jordan_wigner')\n",
    "ph_result = NumPyMinimumEigensolver().compute_minimum_eigenvalue(ph_qubit_op)\n",
    "print(f'E_elec = {ph_result.eigenvalue.real} - {ph_energy_shift} = {ph_result.eigenvalue.real - ph_energy_shift}')"
   ]
  },
  {
   "cell_type": "markdown",
   "id": "moving-decade",
   "metadata": {},
   "source": [
    "As shown above, the end result is identical (as it should be), but the benefit of the particle-hole transformed operator, is that the classical optimizer can benefit from an improved convergence (it certainly won't be worse)."
   ]
  },
  {
   "cell_type": "markdown",
   "id": "accomplished-figure",
   "metadata": {},
   "source": [
    "Let's also take a look at the actual qubit operators:"
   ]
  },
  {
   "cell_type": "code",
   "execution_count": 7,
   "id": "final-helmet",
   "metadata": {},
   "outputs": [
    {
     "name": "stdout",
     "output_type": "stream",
     "text": [
      "-0.8105479805373264 * IIII\n",
      "+ 0.17218393261915527 * IIIZ\n",
      "- 0.22575349222402502 * IIZI\n",
      "+ 0.17218393261915532 * IZII\n",
      "- 0.22575349222402497 * ZIII\n",
      "+ 0.12091263261776641 * IIZZ\n",
      "+ 0.16892753870087926 * IZIZ\n",
      "+ 0.04523279994605789 * XXYY\n",
      "+ 0.04523279994605789 * YYYY\n",
      "+ 0.04523279994605789 * XXXX\n",
      "+ 0.04523279994605789 * YYXX\n",
      "+ 0.1661454325638243 * ZIIZ\n",
      "+ 0.1661454325638243 * IZZI\n",
      "+ 0.17464343068300467 * ZIZI\n",
      "+ 0.12091263261776641 * ZZII\n"
     ]
    }
   ],
   "source": [
    "# Original:\n",
    "print(qubit_op.to_opflow())"
   ]
  },
  {
   "cell_type": "code",
   "execution_count": 8,
   "id": "military-cycling",
   "metadata": {},
   "outputs": [
    {
     "name": "stdout",
     "output_type": "stream",
     "text": [
      "1.026420010665659 * IIII\n",
      "+ 0.17218393261915532 * IIIZ\n",
      "- 0.22575349222402522 * IIZI\n",
      "+ 0.17218393261915532 * IZII\n",
      "- 0.22575349222402522 * ZIII\n",
      "+ 0.16892753870087926 * IZIZ\n",
      "+ 0.04523279994605789 * YYYY\n",
      "+ 0.04523279994605789 * XXYY\n",
      "+ 0.04523279994605789 * YYXX\n",
      "+ 0.04523279994605789 * XXXX\n",
      "+ 0.12091263261776641 * IIZZ\n",
      "+ 0.1661454325638243 * IZZI\n",
      "+ 0.1661454325638243 * ZIIZ\n",
      "+ 0.17464343068300467 * ZIZI\n",
      "+ 0.12091263261776641 * ZZII\n"
     ]
    }
   ],
   "source": [
    "# particle-hole transformed\n",
    "print(ph_qubit_op.to_opflow())"
   ]
  },
  {
   "cell_type": "markdown",
   "id": "jewish-warren",
   "metadata": {},
   "source": [
    "As we can see, the qubit operators are in fact identical except for the unity-term, `IIII`. This term is shifted by `ph_energy_shift`."
   ]
  },
  {
   "cell_type": "markdown",
   "id": "billion-kitty",
   "metadata": {},
   "source": [
    "Technically this means, that we can achieve the desired result of the p/h transformer, by only including a single extra term, which shifts the energy of the unity Pauli string. However, this does not reflect the mathematical implementation of the actual flow at all. Therefore, I strongly discourage this approach, especially because we do not fully understand all of the underlying assumptions introduced when doing this."
   ]
  },
  {
   "cell_type": "markdown",
   "id": "addressed-velvet",
   "metadata": {},
   "source": [
    "## Moving to Qiskit Nature"
   ]
  },
  {
   "cell_type": "markdown",
   "id": "confident-translator",
   "metadata": {},
   "source": [
    "Qiskit Nature provides us the `FermionicOp` which is an operator that properly implements the fermionic creation (`+`) and annihilation (`-`) operations. In doing so, it also implements the correct anti-commutation rules and provides the means to normal order the operators."
   ]
  },
  {
   "cell_type": "markdown",
   "id": "academic-hammer",
   "metadata": {},
   "source": [
    "This means, that we can envision an implementation of the p/h transformer which leverages the proper anti-commutation built into the `FermionicOp`. To this extent, I shortly demonstrate the normal-ordering of the `FermionicOp`:"
   ]
  },
  {
   "cell_type": "code",
   "execution_count": 9,
   "id": "horizontal-underground",
   "metadata": {},
   "outputs": [],
   "source": [
    "import numpy as np\n",
    "from itertools import permutations, product\n",
    "from functools import reduce\n",
    "from qiskit_nature.operators.second_quantization import FermionicOp"
   ]
  },
  {
   "cell_type": "code",
   "execution_count": 10,
   "id": "champion-island",
   "metadata": {},
   "outputs": [
    {
     "name": "stdout",
     "output_type": "stream",
     "text": [
      "(0, 0, 0, 0) ('-', '+', '+', '-') IIIE * (1+0j)   IIII * (1+0j) + IIIN * (-1+0j)\n",
      "(0, 0, 0, 0) ('+', '-', '-', '+') IIIN * (1+0j) IIIN * (1+0j)\n",
      "(0, 0, 0, 1) ('-', '-', '+', '+') II+- * (1+0j) II+- * (1+0j)\n",
      "(0, 0, 0, 1) ('+', '+', '-', '-') II-+ * (1+0j) II-+ * (1+0j)\n",
      "(0, 0, 0, 2) ('-', '-', '+', '+') I+I- * (1+0j) I+I- * (1+0j)\n",
      "(0, 0, 0, 2) ('+', '+', '-', '-') I-I+ * (1+0j) I-I+ * (1+0j)\n",
      "(0, 0, 0, 3) ('-', '-', '+', '+') +II- * (1+0j) +II- * (1+0j)\n",
      "(0, 0, 0, 3) ('+', '+', '-', '-') -II+ * (1+0j) -II+ * (1+0j)\n",
      "(0, 0, 1, 0) ('-', '-', '+', '+') II+- * (-1+0j) II+- * (-1+0j)\n",
      "(0, 0, 1, 0) ('+', '+', '-', '-') II-+ * (-1+0j) II-+ * (-1+0j)\n",
      "(0, 0, 1, 1) ('+', '-', '+', '-') IINN * (1+0j) IINN * (1+0j)\n",
      "(0, 0, 1, 1) ('-', '+', '+', '-') IINE * (1+0j)   IINI * (1+0j) + IINN * (-1+0j)\n",
      "(0, 0, 1, 1) ('+', '-', '-', '+') IIEN * (1+0j)   IIIN * (1+0j) + IINN * (-1+0j)\n",
      "(0, 0, 1, 1) ('-', '+', '-', '+') IIEE * (1+0j)   IIII * (1+0j) + IIIN * (-1+0j) + IINI * (-1+0j) + IINN * (1+0j)\n",
      "(0, 0, 1, 2) ('+', '-', '+', '-') I-+N * (-1+0j) I-+N * (-1+0j)\n",
      "(0, 0, 1, 2) ('-', '+', '+', '-') I-+E * (-1+0j)   I-+I * (-1+0j) + I-+N * (1+0j)\n",
      "(0, 0, 1, 2) ('+', '-', '-', '+') I+-N * (-1+0j) I+-N * (-1+0j)\n",
      "(0, 0, 1, 2) ('-', '+', '-', '+') I+-E * (-1+0j)   I+-I * (-1+0j) + I+-N * (1+0j)\n",
      "(0, 0, 1, 3) ('+', '-', '+', '-') -I+N * (-1+0j) -I+N * (-1+0j)\n",
      "(0, 0, 1, 3) ('-', '+', '+', '-') -I+E * (-1+0j)   -I+I * (-1+0j) + -I+N * (1+0j)\n",
      "(0, 0, 1, 3) ('+', '-', '-', '+') +I-N * (-1+0j) +I-N * (-1+0j)\n",
      "(0, 0, 1, 3) ('-', '+', '-', '+') +I-E * (-1+0j)   +I-I * (-1+0j) + +I-N * (1+0j)\n",
      "(0, 0, 2, 0) ('-', '-', '+', '+') I+I- * (-1+0j) I+I- * (-1+0j)\n",
      "(0, 0, 2, 0) ('+', '+', '-', '-') I-I+ * (-1+0j) I-I+ * (-1+0j)\n",
      "(0, 0, 2, 1) ('+', '-', '+', '-') I+-N * (1+0j) I+-N * (1+0j)\n",
      "(0, 0, 2, 1) ('-', '+', '+', '-') I+-E * (1+0j)   I+-I * (1+0j) + I+-N * (-1+0j)\n",
      "(0, 0, 2, 1) ('+', '-', '-', '+') I-+N * (1+0j) I-+N * (1+0j)\n",
      "(0, 0, 2, 1) ('-', '+', '-', '+') I-+E * (1+0j)   I-+I * (1+0j) + I-+N * (-1+0j)\n",
      "(0, 0, 2, 2) ('+', '-', '+', '-') ININ * (1+0j) ININ * (1+0j)\n",
      "(0, 0, 2, 2) ('-', '+', '+', '-') INIE * (1+0j)   INII * (1+0j) + ININ * (-1+0j)\n",
      "(0, 0, 2, 2) ('+', '-', '-', '+') IEIN * (1+0j)   IIIN * (1+0j) + ININ * (-1+0j)\n",
      "(0, 0, 2, 2) ('-', '+', '-', '+') IEIE * (1+0j)   IIII * (1+0j) + IIIN * (-1+0j) + INII * (-1+0j) + ININ * (1+0j)\n",
      "(0, 0, 2, 3) ('+', '-', '+', '-') -+IN * (-1+0j) -+IN * (-1+0j)\n",
      "(0, 0, 2, 3) ('-', '+', '+', '-') -+IE * (-1+0j)   -+II * (-1+0j) + -+IN * (1+0j)\n",
      "(0, 0, 2, 3) ('+', '-', '-', '+') +-IN * (-1+0j) +-IN * (-1+0j)\n",
      "(0, 0, 2, 3) ('-', '+', '-', '+') +-IE * (-1+0j)   +-II * (-1+0j) + +-IN * (1+0j)\n",
      "(0, 0, 3, 0) ('-', '-', '+', '+') +II- * (-1+0j) +II- * (-1+0j)\n",
      "(0, 0, 3, 0) ('+', '+', '-', '-') -II+ * (-1+0j) -II+ * (-1+0j)\n",
      "(0, 0, 3, 1) ('+', '-', '+', '-') +I-N * (1+0j) +I-N * (1+0j)\n",
      "(0, 0, 3, 1) ('-', '+', '+', '-') +I-E * (1+0j)   +I-I * (1+0j) + +I-N * (-1+0j)\n",
      "(0, 0, 3, 1) ('+', '-', '-', '+') -I+N * (1+0j) -I+N * (1+0j)\n",
      "(0, 0, 3, 1) ('-', '+', '-', '+') -I+E * (1+0j)   -I+I * (1+0j) + -I+N * (-1+0j)\n",
      "(0, 0, 3, 2) ('+', '-', '+', '-') +-IN * (1+0j) +-IN * (1+0j)\n",
      "(0, 0, 3, 2) ('-', '+', '+', '-') +-IE * (1+0j)   +-II * (1+0j) + +-IN * (-1+0j)\n",
      "(0, 0, 3, 2) ('+', '-', '-', '+') -+IN * (1+0j) -+IN * (1+0j)\n",
      "(0, 0, 3, 2) ('-', '+', '-', '+') -+IE * (1+0j)   -+II * (1+0j) + -+IN * (-1+0j)\n",
      "(0, 0, 3, 3) ('+', '-', '+', '-') NIIN * (1+0j) NIIN * (1+0j)\n",
      "(0, 0, 3, 3) ('-', '+', '+', '-') NIIE * (1+0j)   NIII * (1+0j) + NIIN * (-1+0j)\n",
      "(0, 0, 3, 3) ('+', '-', '-', '+') EIIN * (1+0j)   IIIN * (1+0j) + NIIN * (-1+0j)\n",
      "(0, 0, 3, 3) ('-', '+', '-', '+') EIIE * (1+0j)   IIII * (1+0j) + IIIN * (-1+0j) + NIII * (-1+0j) + NIIN * (1+0j)\n",
      "(0, 1, 0, 0) ('-', '+', '+', '-') II+- * (-1+0j) II+- * (-1+0j)\n",
      "(0, 1, 0, 0) ('+', '-', '-', '+') II-+ * (-1+0j) II-+ * (-1+0j)\n",
      "(0, 1, 0, 1) ('-', '-', '+', '+') IINE * (1+0j)   IINI * (1+0j) + IINN * (-1+0j)\n",
      "(0, 1, 0, 1) ('-', '+', '+', '-') IIEE * (1+0j)   IIII * (1+0j) + IIIN * (-1+0j) + IINI * (-1+0j) + IINN * (1+0j)\n",
      "(0, 1, 0, 1) ('+', '-', '-', '+') IINN * (1+0j) IINN * (1+0j)\n",
      "(0, 1, 0, 1) ('+', '+', '-', '-') IIEN * (1+0j)   IIIN * (1+0j) + IINN * (-1+0j)\n",
      "(0, 1, 0, 2) ('-', '-', '+', '+') I+-E * (1+0j)   I+-I * (1+0j) + I+-N * (-1+0j)\n",
      "(0, 1, 0, 2) ('-', '+', '+', '-') I-+E * (1+0j)   I-+I * (1+0j) + I-+N * (-1+0j)\n",
      "(0, 1, 0, 2) ('+', '-', '-', '+') I+-N * (1+0j) I+-N * (1+0j)\n",
      "(0, 1, 0, 2) ('+', '+', '-', '-') I-+N * (1+0j) I-+N * (1+0j)\n",
      "(0, 1, 0, 3) ('-', '-', '+', '+') +I-E * (1+0j)   +I-I * (1+0j) + +I-N * (-1+0j)\n",
      "(0, 1, 0, 3) ('-', '+', '+', '-') -I+E * (1+0j)   -I+I * (1+0j) + -I+N * (-1+0j)\n",
      "(0, 1, 0, 3) ('+', '-', '-', '+') +I-N * (1+0j) +I-N * (1+0j)\n",
      "(0, 1, 0, 3) ('+', '+', '-', '-') -I+N * (1+0j) -I+N * (1+0j)\n",
      "(0, 1, 1, 0) ('-', '-', '+', '+') IINE * (-1+0j)   IINI * (-1+0j) + IINN * (1+0j)\n",
      "(0, 1, 1, 0) ('+', '-', '+', '-') IINN * (-1+0j) IINN * (-1+0j)\n",
      "(0, 1, 1, 0) ('+', '+', '-', '-') IIEN * (-1+0j)   IIIN * (-1+0j) + IINN * (1+0j)\n",
      "(0, 1, 1, 0) ('-', '+', '-', '+') IIEE * (-1+0j)   IIII * (-1+0j) + IIIN * (1+0j) + IINI * (1+0j) + IINN * (-1+0j)\n",
      "(0, 1, 1, 1) ('-', '+', '+', '-') II+- * (-1+0j) II+- * (-1+0j)\n",
      "(0, 1, 1, 1) ('+', '-', '-', '+') II-+ * (-1+0j) II-+ * (-1+0j)\n",
      "(0, 1, 1, 2) ('-', '-', '+', '+') I+N- * (1+0j) I+N- * (1+0j)\n",
      "(0, 1, 1, 2) ('+', '-', '+', '-') I-N+ * (1+0j) I-N+ * (1+0j)\n",
      "(0, 1, 1, 2) ('+', '+', '-', '-') I-E+ * (1+0j)   I-I+ * (1+0j) + I-N+ * (-1+0j)\n",
      "(0, 1, 1, 2) ('-', '+', '-', '+') I+E- * (1+0j)   I+I- * (1+0j) + I+N- * (-1+0j)\n",
      "(0, 1, 1, 3) ('-', '-', '+', '+') +IN- * (1+0j) +IN- * (1+0j)\n",
      "(0, 1, 1, 3) ('+', '-', '+', '-') -IN+ * (1+0j) -IN+ * (1+0j)\n",
      "(0, 1, 1, 3) ('+', '+', '-', '-') -IE+ * (1+0j)   -II+ * (1+0j) + -IN+ * (-1+0j)\n",
      "(0, 1, 1, 3) ('-', '+', '-', '+') +IE- * (1+0j)   +II- * (1+0j) + +IN- * (-1+0j)\n",
      "(0, 1, 2, 0) ('-', '-', '+', '+') I+-E * (-1+0j)   I+-I * (-1+0j) + I+-N * (1+0j)\n",
      "(0, 1, 2, 0) ('+', '-', '+', '-') I+-N * (-1+0j) I+-N * (-1+0j)\n",
      "(0, 1, 2, 0) ('+', '+', '-', '-') I-+N * (-1+0j) I-+N * (-1+0j)\n",
      "(0, 1, 2, 0) ('-', '+', '-', '+') I-+E * (-1+0j)   I-+I * (-1+0j) + I-+N * (1+0j)\n",
      "(0, 1, 2, 1) ('-', '-', '+', '+') I+N- * (-1+0j) I+N- * (-1+0j)\n",
      "(0, 1, 2, 1) ('-', '+', '+', '-') I+E- * (-1+0j)   I+I- * (-1+0j) + I+N- * (1+0j)\n",
      "(0, 1, 2, 1) ('+', '-', '-', '+') I-N+ * (-1+0j) I-N+ * (-1+0j)\n",
      "(0, 1, 2, 1) ('+', '+', '-', '-') I-E+ * (-1+0j)   I-I+ * (-1+0j) + I-N+ * (1+0j)\n",
      "(0, 1, 2, 2) ('+', '-', '+', '-') IN-+ * (-1+0j) IN-+ * (-1+0j)\n",
      "(0, 1, 2, 2) ('-', '+', '+', '-') IN+- * (-1+0j) IN+- * (-1+0j)\n",
      "(0, 1, 2, 2) ('+', '-', '-', '+') IE-+ * (-1+0j)   II-+ * (-1+0j) + IN-+ * (1+0j)\n",
      "(0, 1, 2, 2) ('-', '+', '-', '+') IE+- * (-1+0j)   II+- * (-1+0j) + IN+- * (1+0j)\n",
      "(0, 1, 2, 3) ('-', '-', '+', '+') ++-- * (1+0j) ++-- * (1+0j)\n",
      "(0, 1, 2, 3) ('+', '-', '+', '-') -+-+ * (1+0j) -+-+ * (1+0j)\n",
      "(0, 1, 2, 3) ('-', '+', '+', '-') -++- * (1+0j) -++- * (1+0j)\n",
      "(0, 1, 2, 3) ('+', '-', '-', '+') +--+ * (1+0j) +--+ * (1+0j)\n",
      "(0, 1, 2, 3) ('+', '+', '-', '-') --++ * (1+0j) --++ * (1+0j)\n",
      "(0, 1, 2, 3) ('-', '+', '-', '+') +-+- * (1+0j) +-+- * (1+0j)\n",
      "(0, 1, 3, 0) ('-', '-', '+', '+') +I-E * (-1+0j)   +I-I * (-1+0j) + +I-N * (1+0j)\n",
      "(0, 1, 3, 0) ('+', '-', '+', '-') +I-N * (-1+0j) +I-N * (-1+0j)\n",
      "(0, 1, 3, 0) ('+', '+', '-', '-') -I+N * (-1+0j) -I+N * (-1+0j)\n",
      "(0, 1, 3, 0) ('-', '+', '-', '+') -I+E * (-1+0j)   -I+I * (-1+0j) + -I+N * (1+0j)\n",
      "(0, 1, 3, 1) ('-', '-', '+', '+') +IN- * (-1+0j) +IN- * (-1+0j)\n",
      "(0, 1, 3, 1) ('-', '+', '+', '-') +IE- * (-1+0j)   +II- * (-1+0j) + +IN- * (1+0j)\n",
      "(0, 1, 3, 1) ('+', '-', '-', '+') -IN+ * (-1+0j) -IN+ * (-1+0j)\n",
      "(0, 1, 3, 1) ('+', '+', '-', '-') -IE+ * (-1+0j)   -II+ * (-1+0j) + -IN+ * (1+0j)\n",
      "(0, 1, 3, 2) ('-', '-', '+', '+') ++-- * (-1+0j) ++-- * (-1+0j)\n",
      "(0, 1, 3, 2) ('+', '-', '+', '-') +--+ * (-1+0j) +--+ * (-1+0j)\n",
      "(0, 1, 3, 2) ('-', '+', '+', '-') +-+- * (-1+0j) +-+- * (-1+0j)\n",
      "(0, 1, 3, 2) ('+', '-', '-', '+') -+-+ * (-1+0j) -+-+ * (-1+0j)\n",
      "(0, 1, 3, 2) ('+', '+', '-', '-') --++ * (-1+0j) --++ * (-1+0j)\n",
      "(0, 1, 3, 2) ('-', '+', '-', '+') -++- * (-1+0j) -++- * (-1+0j)\n",
      "(0, 1, 3, 3) ('+', '-', '+', '-') NI-+ * (-1+0j) NI-+ * (-1+0j)\n",
      "(0, 1, 3, 3) ('-', '+', '+', '-') NI+- * (-1+0j) NI+- * (-1+0j)\n",
      "(0, 1, 3, 3) ('+', '-', '-', '+') EI-+ * (-1+0j)   II-+ * (-1+0j) + NI-+ * (1+0j)\n",
      "(0, 1, 3, 3) ('-', '+', '-', '+') EI+- * (-1+0j)   II+- * (-1+0j) + NI+- * (1+0j)\n",
      "(0, 2, 0, 0) ('-', '+', '+', '-') I+I- * (-1+0j) I+I- * (-1+0j)\n",
      "(0, 2, 0, 0) ('+', '-', '-', '+') I-I+ * (-1+0j) I-I+ * (-1+0j)\n",
      "(0, 2, 0, 1) ('-', '-', '+', '+') I-+E * (-1+0j)   I-+I * (-1+0j) + I-+N * (1+0j)\n",
      "(0, 2, 0, 1) ('-', '+', '+', '-') I+-E * (-1+0j)   I+-I * (-1+0j) + I+-N * (1+0j)\n",
      "(0, 2, 0, 1) ('+', '-', '-', '+') I-+N * (-1+0j) I-+N * (-1+0j)\n",
      "(0, 2, 0, 1) ('+', '+', '-', '-') I+-N * (-1+0j) I+-N * (-1+0j)\n",
      "(0, 2, 0, 2) ('-', '-', '+', '+') INIE * (1+0j)   INII * (1+0j) + ININ * (-1+0j)\n",
      "(0, 2, 0, 2) ('-', '+', '+', '-') IEIE * (1+0j)   IIII * (1+0j) + IIIN * (-1+0j) + INII * (-1+0j) + ININ * (1+0j)\n",
      "(0, 2, 0, 2) ('+', '-', '-', '+') ININ * (1+0j) ININ * (1+0j)\n",
      "(0, 2, 0, 2) ('+', '+', '-', '-') IEIN * (1+0j)   IIIN * (1+0j) + ININ * (-1+0j)\n",
      "(0, 2, 0, 3) ('-', '-', '+', '+') +-IE * (1+0j)   +-II * (1+0j) + +-IN * (-1+0j)\n",
      "(0, 2, 0, 3) ('-', '+', '+', '-') -+IE * (1+0j)   -+II * (1+0j) + -+IN * (-1+0j)\n",
      "(0, 2, 0, 3) ('+', '-', '-', '+') +-IN * (1+0j) +-IN * (1+0j)\n",
      "(0, 2, 0, 3) ('+', '+', '-', '-') -+IN * (1+0j) -+IN * (1+0j)\n",
      "(0, 2, 1, 0) ('-', '-', '+', '+') I-+E * (1+0j)   I-+I * (1+0j) + I-+N * (-1+0j)\n",
      "(0, 2, 1, 0) ('+', '-', '+', '-') I-+N * (1+0j) I-+N * (1+0j)\n",
      "(0, 2, 1, 0) ('+', '+', '-', '-') I+-N * (1+0j) I+-N * (1+0j)\n",
      "(0, 2, 1, 0) ('-', '+', '-', '+') I+-E * (1+0j)   I+-I * (1+0j) + I+-N * (-1+0j)\n",
      "(0, 2, 1, 1) ('+', '-', '+', '-') I-N+ * (-1+0j) I-N+ * (-1+0j)\n",
      "(0, 2, 1, 1) ('-', '+', '+', '-') I+N- * (-1+0j) I+N- * (-1+0j)\n",
      "(0, 2, 1, 1) ('+', '-', '-', '+') I-E+ * (-1+0j)   I-I+ * (-1+0j) + I-N+ * (1+0j)\n",
      "(0, 2, 1, 1) ('-', '+', '-', '+') I+E- * (-1+0j)   I+I- * (-1+0j) + I+N- * (1+0j)\n",
      "(0, 2, 1, 2) ('-', '-', '+', '+') IN+- * (-1+0j) IN+- * (-1+0j)\n",
      "(0, 2, 1, 2) ('-', '+', '+', '-') IE+- * (-1+0j)   II+- * (-1+0j) + IN+- * (1+0j)\n",
      "(0, 2, 1, 2) ('+', '-', '-', '+') IN-+ * (-1+0j) IN-+ * (-1+0j)\n",
      "(0, 2, 1, 2) ('+', '+', '-', '-') IE-+ * (-1+0j)   II-+ * (-1+0j) + IN-+ * (1+0j)\n",
      "(0, 2, 1, 3) ('-', '-', '+', '+') +-+- * (-1+0j) +-+- * (-1+0j)\n",
      "(0, 2, 1, 3) ('+', '-', '+', '-') --++ * (-1+0j) --++ * (-1+0j)\n",
      "(0, 2, 1, 3) ('-', '+', '+', '-') -++- * (-1+0j) -++- * (-1+0j)\n",
      "(0, 2, 1, 3) ('+', '-', '-', '+') +--+ * (-1+0j) +--+ * (-1+0j)\n",
      "(0, 2, 1, 3) ('+', '+', '-', '-') -+-+ * (-1+0j) -+-+ * (-1+0j)\n",
      "(0, 2, 1, 3) ('-', '+', '-', '+') ++-- * (-1+0j) ++-- * (-1+0j)\n",
      "(0, 2, 2, 0) ('-', '-', '+', '+') INIE * (-1+0j)   INII * (-1+0j) + ININ * (1+0j)\n",
      "(0, 2, 2, 0) ('+', '-', '+', '-') ININ * (-1+0j) ININ * (-1+0j)\n",
      "(0, 2, 2, 0) ('+', '+', '-', '-') IEIN * (-1+0j)   IIIN * (-1+0j) + ININ * (1+0j)\n",
      "(0, 2, 2, 0) ('-', '+', '-', '+') IEIE * (-1+0j)   IIII * (-1+0j) + IIIN * (1+0j) + INII * (1+0j) + ININ * (-1+0j)\n",
      "(0, 2, 2, 1) ('-', '-', '+', '+') IN+- * (1+0j) IN+- * (1+0j)\n",
      "(0, 2, 2, 1) ('+', '-', '+', '-') IN-+ * (1+0j) IN-+ * (1+0j)\n",
      "(0, 2, 2, 1) ('+', '+', '-', '-') IE-+ * (1+0j)   II-+ * (1+0j) + IN-+ * (-1+0j)\n",
      "(0, 2, 2, 1) ('-', '+', '-', '+') IE+- * (1+0j)   II+- * (1+0j) + IN+- * (-1+0j)\n",
      "(0, 2, 2, 2) ('-', '+', '+', '-') I+I- * (-1+0j) I+I- * (-1+0j)\n",
      "(0, 2, 2, 2) ('+', '-', '-', '+') I-I+ * (-1+0j) I-I+ * (-1+0j)\n",
      "(0, 2, 2, 3) ('-', '-', '+', '+') +NI- * (1+0j) +NI- * (1+0j)\n",
      "(0, 2, 2, 3) ('+', '-', '+', '-') -NI+ * (1+0j) -NI+ * (1+0j)\n",
      "(0, 2, 2, 3) ('+', '+', '-', '-') -EI+ * (1+0j)   -II+ * (1+0j) + -NI+ * (-1+0j)\n",
      "(0, 2, 2, 3) ('-', '+', '-', '+') +EI- * (1+0j)   +II- * (1+0j) + +NI- * (-1+0j)\n",
      "(0, 2, 3, 0) ('-', '-', '+', '+') +-IE * (-1+0j)   +-II * (-1+0j) + +-IN * (1+0j)\n",
      "(0, 2, 3, 0) ('+', '-', '+', '-') +-IN * (-1+0j) +-IN * (-1+0j)\n",
      "(0, 2, 3, 0) ('+', '+', '-', '-') -+IN * (-1+0j) -+IN * (-1+0j)\n",
      "(0, 2, 3, 0) ('-', '+', '-', '+') -+IE * (-1+0j)   -+II * (-1+0j) + -+IN * (1+0j)\n",
      "(0, 2, 3, 1) ('-', '-', '+', '+') +-+- * (1+0j) +-+- * (1+0j)\n",
      "(0, 2, 3, 1) ('+', '-', '+', '-') +--+ * (1+0j) +--+ * (1+0j)\n",
      "(0, 2, 3, 1) ('-', '+', '+', '-') ++-- * (1+0j) ++-- * (1+0j)\n",
      "(0, 2, 3, 1) ('+', '-', '-', '+') --++ * (1+0j) --++ * (1+0j)\n",
      "(0, 2, 3, 1) ('+', '+', '-', '-') -+-+ * (1+0j) -+-+ * (1+0j)\n",
      "(0, 2, 3, 1) ('-', '+', '-', '+') -++- * (1+0j) -++- * (1+0j)\n",
      "(0, 2, 3, 2) ('-', '-', '+', '+') +NI- * (-1+0j) +NI- * (-1+0j)\n",
      "(0, 2, 3, 2) ('-', '+', '+', '-') +EI- * (-1+0j)   +II- * (-1+0j) + +NI- * (1+0j)\n",
      "(0, 2, 3, 2) ('+', '-', '-', '+') -NI+ * (-1+0j) -NI+ * (-1+0j)\n",
      "(0, 2, 3, 2) ('+', '+', '-', '-') -EI+ * (-1+0j)   -II+ * (-1+0j) + -NI+ * (1+0j)\n",
      "(0, 2, 3, 3) ('+', '-', '+', '-') N-I+ * (-1+0j) N-I+ * (-1+0j)\n",
      "(0, 2, 3, 3) ('-', '+', '+', '-') N+I- * (-1+0j) N+I- * (-1+0j)\n",
      "(0, 2, 3, 3) ('+', '-', '-', '+') E-I+ * (-1+0j)   I-I+ * (-1+0j) + N-I+ * (1+0j)\n",
      "(0, 2, 3, 3) ('-', '+', '-', '+') E+I- * (-1+0j)   I+I- * (-1+0j) + N+I- * (1+0j)\n",
      "(0, 3, 0, 0) ('-', '+', '+', '-') +II- * (-1+0j) +II- * (-1+0j)\n",
      "(0, 3, 0, 0) ('+', '-', '-', '+') -II+ * (-1+0j) -II+ * (-1+0j)\n",
      "(0, 3, 0, 1) ('-', '-', '+', '+') -I+E * (-1+0j)   -I+I * (-1+0j) + -I+N * (1+0j)\n",
      "(0, 3, 0, 1) ('-', '+', '+', '-') +I-E * (-1+0j)   +I-I * (-1+0j) + +I-N * (1+0j)\n",
      "(0, 3, 0, 1) ('+', '-', '-', '+') -I+N * (-1+0j) -I+N * (-1+0j)\n",
      "(0, 3, 0, 1) ('+', '+', '-', '-') +I-N * (-1+0j) +I-N * (-1+0j)\n",
      "(0, 3, 0, 2) ('-', '-', '+', '+') -+IE * (-1+0j)   -+II * (-1+0j) + -+IN * (1+0j)\n",
      "(0, 3, 0, 2) ('-', '+', '+', '-') +-IE * (-1+0j)   +-II * (-1+0j) + +-IN * (1+0j)\n",
      "(0, 3, 0, 2) ('+', '-', '-', '+') -+IN * (-1+0j) -+IN * (-1+0j)\n",
      "(0, 3, 0, 2) ('+', '+', '-', '-') +-IN * (-1+0j) +-IN * (-1+0j)\n",
      "(0, 3, 0, 3) ('-', '-', '+', '+') NIIE * (1+0j)   NIII * (1+0j) + NIIN * (-1+0j)\n",
      "(0, 3, 0, 3) ('-', '+', '+', '-') EIIE * (1+0j)   IIII * (1+0j) + IIIN * (-1+0j) + NIII * (-1+0j) + NIIN * (1+0j)\n",
      "(0, 3, 0, 3) ('+', '-', '-', '+') NIIN * (1+0j) NIIN * (1+0j)\n",
      "(0, 3, 0, 3) ('+', '+', '-', '-') EIIN * (1+0j)   IIIN * (1+0j) + NIIN * (-1+0j)\n",
      "(0, 3, 1, 0) ('-', '-', '+', '+') -I+E * (1+0j)   -I+I * (1+0j) + -I+N * (-1+0j)\n",
      "(0, 3, 1, 0) ('+', '-', '+', '-') -I+N * (1+0j) -I+N * (1+0j)\n",
      "(0, 3, 1, 0) ('+', '+', '-', '-') +I-N * (1+0j) +I-N * (1+0j)\n",
      "(0, 3, 1, 0) ('-', '+', '-', '+') +I-E * (1+0j)   +I-I * (1+0j) + +I-N * (-1+0j)\n",
      "(0, 3, 1, 1) ('+', '-', '+', '-') -IN+ * (-1+0j) -IN+ * (-1+0j)\n",
      "(0, 3, 1, 1) ('-', '+', '+', '-') +IN- * (-1+0j) +IN- * (-1+0j)\n",
      "(0, 3, 1, 1) ('+', '-', '-', '+') -IE+ * (-1+0j)   -II+ * (-1+0j) + -IN+ * (1+0j)\n",
      "(0, 3, 1, 1) ('-', '+', '-', '+') +IE- * (-1+0j)   +II- * (-1+0j) + +IN- * (1+0j)\n",
      "(0, 3, 1, 2) ('-', '-', '+', '+') -++- * (1+0j) -++- * (1+0j)\n",
      "(0, 3, 1, 2) ('+', '-', '+', '-') --++ * (1+0j) --++ * (1+0j)\n",
      "(0, 3, 1, 2) ('-', '+', '+', '-') +-+- * (1+0j) +-+- * (1+0j)\n",
      "(0, 3, 1, 2) ('+', '-', '-', '+') -+-+ * (1+0j) -+-+ * (1+0j)\n",
      "(0, 3, 1, 2) ('+', '+', '-', '-') +--+ * (1+0j) +--+ * (1+0j)\n",
      "(0, 3, 1, 2) ('-', '+', '-', '+') ++-- * (1+0j) ++-- * (1+0j)\n",
      "(0, 3, 1, 3) ('-', '-', '+', '+') NI+- * (-1+0j) NI+- * (-1+0j)\n",
      "(0, 3, 1, 3) ('-', '+', '+', '-') EI+- * (-1+0j)   II+- * (-1+0j) + NI+- * (1+0j)\n",
      "(0, 3, 1, 3) ('+', '-', '-', '+') NI-+ * (-1+0j) NI-+ * (-1+0j)\n",
      "(0, 3, 1, 3) ('+', '+', '-', '-') EI-+ * (-1+0j)   II-+ * (-1+0j) + NI-+ * (1+0j)\n",
      "(0, 3, 2, 0) ('-', '-', '+', '+') -+IE * (1+0j)   -+II * (1+0j) + -+IN * (-1+0j)\n",
      "(0, 3, 2, 0) ('+', '-', '+', '-') -+IN * (1+0j) -+IN * (1+0j)\n",
      "(0, 3, 2, 0) ('+', '+', '-', '-') +-IN * (1+0j) +-IN * (1+0j)\n",
      "(0, 3, 2, 0) ('-', '+', '-', '+') +-IE * (1+0j)   +-II * (1+0j) + +-IN * (-1+0j)\n",
      "(0, 3, 2, 1) ('-', '-', '+', '+') -++- * (-1+0j) -++- * (-1+0j)\n",
      "(0, 3, 2, 1) ('+', '-', '+', '-') -+-+ * (-1+0j) -+-+ * (-1+0j)\n",
      "(0, 3, 2, 1) ('-', '+', '+', '-') ++-- * (-1+0j) ++-- * (-1+0j)\n",
      "(0, 3, 2, 1) ('+', '-', '-', '+') --++ * (-1+0j) --++ * (-1+0j)\n",
      "(0, 3, 2, 1) ('+', '+', '-', '-') +--+ * (-1+0j) +--+ * (-1+0j)\n",
      "(0, 3, 2, 1) ('-', '+', '-', '+') +-+- * (-1+0j) +-+- * (-1+0j)\n",
      "(0, 3, 2, 2) ('+', '-', '+', '-') -NI+ * (-1+0j) -NI+ * (-1+0j)\n",
      "(0, 3, 2, 2) ('-', '+', '+', '-') +NI- * (-1+0j) +NI- * (-1+0j)\n",
      "(0, 3, 2, 2) ('+', '-', '-', '+') -EI+ * (-1+0j)   -II+ * (-1+0j) + -NI+ * (1+0j)\n",
      "(0, 3, 2, 2) ('-', '+', '-', '+') +EI- * (-1+0j)   +II- * (-1+0j) + +NI- * (1+0j)\n",
      "(0, 3, 2, 3) ('-', '-', '+', '+') N+I- * (-1+0j) N+I- * (-1+0j)\n",
      "(0, 3, 2, 3) ('-', '+', '+', '-') E+I- * (-1+0j)   I+I- * (-1+0j) + N+I- * (1+0j)\n",
      "(0, 3, 2, 3) ('+', '-', '-', '+') N-I+ * (-1+0j) N-I+ * (-1+0j)\n",
      "(0, 3, 2, 3) ('+', '+', '-', '-') E-I+ * (-1+0j)   I-I+ * (-1+0j) + N-I+ * (1+0j)\n",
      "(0, 3, 3, 0) ('-', '-', '+', '+') NIIE * (-1+0j)   NIII * (-1+0j) + NIIN * (1+0j)\n",
      "(0, 3, 3, 0) ('+', '-', '+', '-') NIIN * (-1+0j) NIIN * (-1+0j)\n",
      "(0, 3, 3, 0) ('+', '+', '-', '-') EIIN * (-1+0j)   IIIN * (-1+0j) + NIIN * (1+0j)\n",
      "(0, 3, 3, 0) ('-', '+', '-', '+') EIIE * (-1+0j)   IIII * (-1+0j) + IIIN * (1+0j) + NIII * (1+0j) + NIIN * (-1+0j)\n",
      "(0, 3, 3, 1) ('-', '-', '+', '+') NI+- * (1+0j) NI+- * (1+0j)\n"
     ]
    },
    {
     "name": "stdout",
     "output_type": "stream",
     "text": [
      "(0, 3, 3, 1) ('+', '-', '+', '-') NI-+ * (1+0j) NI-+ * (1+0j)\n",
      "(0, 3, 3, 1) ('+', '+', '-', '-') EI-+ * (1+0j)   II-+ * (1+0j) + NI-+ * (-1+0j)\n",
      "(0, 3, 3, 1) ('-', '+', '-', '+') EI+- * (1+0j)   II+- * (1+0j) + NI+- * (-1+0j)\n",
      "(0, 3, 3, 2) ('-', '-', '+', '+') N+I- * (1+0j) N+I- * (1+0j)\n",
      "(0, 3, 3, 2) ('+', '-', '+', '-') N-I+ * (1+0j) N-I+ * (1+0j)\n",
      "(0, 3, 3, 2) ('+', '+', '-', '-') E-I+ * (1+0j)   I-I+ * (1+0j) + N-I+ * (-1+0j)\n",
      "(0, 3, 3, 2) ('-', '+', '-', '+') E+I- * (1+0j)   I+I- * (1+0j) + N+I- * (-1+0j)\n",
      "(0, 3, 3, 3) ('-', '+', '+', '-') +II- * (-1+0j) +II- * (-1+0j)\n",
      "(0, 3, 3, 3) ('+', '-', '-', '+') -II+ * (-1+0j) -II+ * (-1+0j)\n"
     ]
    }
   ],
   "source": [
    "# Let's check the normal-ordering of the FermionicOp\n",
    "\n",
    "# We iterate all possible double-excitation index combinations\n",
    "for ijkl in product(*[range(4)] * 4):\n",
    "    if ijkl[0] > 0:\n",
    "        # for readability we only print the ones where i == 0\n",
    "        break\n",
    "        \n",
    "    # We then iterate the possible permutations of creation and annihilations operators\n",
    "    for operators in set(permutations('++--', 4)):\n",
    "        # the integrals which we deal with are in blocked spin format. Thus, the following association holds\n",
    "        #   i -> alpha-spin occupied\n",
    "        #   j -> alpha-spin unoccupied\n",
    "        #   k -> beta-spin occupied\n",
    "        #   l -> beta-spin unoccupied\n",
    "        # For chemistry applications, we apply them in normal order to get the anti-commutation for free:\n",
    "        iklj, operators_reordered = zip(*np.asarray(list(zip(ijkl, operators)))[[0, 2, 3, 1]])\n",
    "        \n",
    "        # We construct the operators via a reduction because this allows us to compose sparse-label based ops\n",
    "        # in any order (regardless of index order limitations in the parser)\n",
    "        op = reduce(lambda a, b: a @ b, [FermionicOp(f'{op}_{idx}', register_length=4)\n",
    "                                         for idx, op in zip(iklj, operators_reordered)])\n",
    "        op = op.reduce()\n",
    "        if op._coeffs != [0j]:\n",
    "            # if the reduced operator is not empty, we compute the normal ordered operator\n",
    "            normal_ordered_op = op.to_normal_order_op().reduce()\n",
    "            # ... and then print the result\n",
    "            print(ijkl, operators, op, str(normal_ordered_op).replace('\\n', ' '))"
   ]
  },
  {
   "cell_type": "markdown",
   "id": "foster-offering",
   "metadata": {},
   "source": [
    "We can see, that the normal-ordered operators correctly reproduce the anti-commutation rules which are currently hard-coded in Aqua's p/h implementation. **However**, we also see, that some important relations are missing, because the corresponding `FermionicOp` are zero-operators. For example:\n",
    "$NO[\\hat{a}_0 \\hat{a}_0^\\dagger \\hat{a}_0 \\hat{a}_1^\\dagger] = - \\hat{a}_0^\\dagger \\hat{a}_1^\\dagger \\hat{a}_0 \\hat{a}_0 - \\hat{a}_1^\\dagger \\hat{a}_0$, but Qiskit produces:"
   ]
  },
  {
   "cell_type": "code",
   "execution_count": 11,
   "id": "clear-portuguese",
   "metadata": {},
   "outputs": [
    {
     "name": "stdout",
     "output_type": "stream",
     "text": [
      "IIII * 0j\n"
     ]
    }
   ],
   "source": [
    "ijkl, operators = (0, 0, 1, 0), ('-', '+', '-', '+')\n",
    "iklj, operators_reordered = zip(*np.asarray(list(zip(ijkl, operators)))[[0, 2, 3, 1]])\n",
    "op = reduce(lambda a, b: a @ b, [FermionicOp(f'{op}_{idx}', register_length=4)\n",
    "                                 for idx, op in zip(iklj, operators_reordered)])\n",
    "print(op)"
   ]
  },
  {
   "cell_type": "markdown",
   "id": "verbal-handy",
   "metadata": {},
   "source": [
    "The reason for this limitation is the double $\\hat{a}_0$ operator, which is an invalid operation on a two-level system. Therefore, the current implementation may not suffice for the p/h needs yet. However, since we want to extend the `FermionicOp` in the future, to use a sparse, operator-order preserving internal data structure (before `reduce()` at least), we should be able to support this case, too."
   ]
  },
  {
   "cell_type": "markdown",
   "id": "cooperative-teaching",
   "metadata": {},
   "source": [
    "Before finishing this discussion, I would quickly like to note down two other requirements, which would enable us to implement the p/h transformer as a `QMolecule -> QMolecule` transformer (i.e. a subclass of `qiskit_nature.transformers.base_transformer.BaseTransformer`):\n",
    "  - [ ] We need to be able to handle shifting values between the `h2_aa`, `h2_ba` and `h2_bb` matrices:\n",
    "    - the reason for this, is that the re-interpretation and re-ordering of the labels during the p/h transformation can redistribute the `h2` integrals values\n",
    "  - [x] We need to be able to compute the p/h energy shift directly in the MO basis:\n",
    "    - in fact, this is already possible leveraging the `ActiveSpaceTransformer` with an empty active space: `num_electrons=0` and `num_orbitals=0`"
   ]
  },
  {
   "cell_type": "markdown",
   "id": "studied-fitting",
   "metadata": {},
   "source": [
    "In the process of writing these notes and debugging the old p/h implementation, a few open questions turned op:\n",
    "  - [ ] Why do the `h1` integrals **not** change in the old code? Surely, :math:`<r|F|s>` differs from :math:`<r|h|s>`...\n",
    "  - [ ] Would we even want to mix a `QMolecule -> QMolecule` transformer with using the `FermionicOp` code?\n",
    "    - (this is more of a question for the future implementation)\n",
    "  - [ ] And finally: there is a bug in the old p/h implementation in Aqua, which changes the integrals of the `FermionicOperator` being transformed. See the example below."
   ]
  },
  {
   "cell_type": "code",
   "execution_count": 12,
   "id": "posted-gender",
   "metadata": {},
   "outputs": [
    {
     "name": "stdout",
     "output_type": "stream",
     "text": [
      "[[-1.25633907  0.          0.          0.        ]\n",
      " [ 0.         -0.47189601  0.          0.        ]\n",
      " [ 0.          0.         -1.25633907  0.        ]\n",
      " [ 0.          0.          0.         -0.47189601]]\n",
      "[[-1.25633907  0.          0.          0.        ]\n",
      " [ 0.         -1.25633907  0.          0.        ]\n",
      " [ 0.          0.         -0.47189601  0.        ]\n",
      " [ 0.          0.          0.         -0.47189601]]\n"
     ]
    }
   ],
   "source": [
    "driver = PySCFDriver()\n",
    "q_mol = driver.run()\n",
    "fer_op = FermionicOperator(h1=q_mol.one_body_integrals, h2=q_mol.two_body_integrals)\n",
    "print(fer_op.h1)\n",
    "ph_fer_op, _ = fer_op.particle_hole_transformation((q_mol.num_alpha, q_mol.num_beta))\n",
    "print(fer_op.h1)"
   ]
  },
  {
   "cell_type": "markdown",
   "id": "electronic-police",
   "metadata": {},
   "source": [
    "Notice how the same object has been converted to interleaved-spins although this should be reverted back to blocked-spins."
   ]
  }
 ],
 "metadata": {
  "kernelspec": {
   "display_name": "Python 3",
   "language": "python",
   "name": "python3"
  },
  "language_info": {
   "codemirror_mode": {
    "name": "ipython",
    "version": 3
   },
   "file_extension": ".py",
   "mimetype": "text/x-python",
   "name": "python",
   "nbconvert_exporter": "python",
   "pygments_lexer": "ipython3",
   "version": "3.8.8"
  }
 },
 "nbformat": 4,
 "nbformat_minor": 5
}
